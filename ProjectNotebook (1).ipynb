{
 "cells": [
  {
   "cell_type": "markdown",
   "metadata": {},
   "source": [
    "# Project Description"
   ]
  },
  {
   "cell_type": "markdown",
   "metadata": {},
   "source": [
    "   My project is Mimi, a chatbot that specializes memes. Given a general variety of possible user inputs, Mimi responds with outputs that return the input as a meme for some lighthearted and \"troll\" conversations. Essential functions from Assignment 3 are utilized to allow the outputs to be generated in addition to a few original functions for a unique spin on output possibilities. "
   ]
  },
  {
   "cell_type": "markdown",
   "metadata": {},
   "source": [
    "## Project Code\n",
    "\n",
    "If it makes sense for your project, you can have code and outputs here in the notebook as well."
   ]
  },
  {
   "cell_type": "code",
   "execution_count": 1,
   "metadata": {},
   "outputs": [],
   "source": [
    "from my_module.functions import is_question, is_exclamation, spongebob_meme, phrase_in_laughter, end_chat\n",
    "import random"
   ]
  },
  {
   "cell_type": "code",
   "execution_count": 2,
   "metadata": {},
   "outputs": [],
   "source": [
    "# Do a bunch of things."
   ]
  },
  {
   "cell_type": "code",
   "execution_count": 3,
   "metadata": {},
   "outputs": [],
   "source": [
    "# This cell defines a collection of input and output things our chatbot can say and respond to\n",
    "\n",
    "exclamation_replies = ['why are you yelling', 'im baby...', 'say it louder for the people in the back']\n",
    "\n",
    "question_reply = 'I don\\'t know about that one chief...'\n",
    "\n",
    "default = 'All of the sudden I can\\'t read. I don\\'t know.'\n"
   ]
  },
  {
   "cell_type": "code",
   "execution_count": 4,
   "metadata": {},
   "outputs": [],
   "source": [
    "def have_a_chat():\n",
    "    \"\"\"Main function to run our chatbot. Modified from Assignment 3.\"\"\"\n",
    "    \n",
    "    chat = True\n",
    "    while chat:\n",
    "\n",
    "        # Get a message from the user\n",
    "        msg = input('INPUT :\\t')\n",
    "        out_msg = None\n",
    "\n",
    "        # Check if the input is a question\n",
    "        question = is_question(msg)\n",
    "\n",
    "        # Check if the input is an exclamation\n",
    "        exclamation = is_exclamation(msg)\n",
    "\n",
    "        # Check for an end msg \n",
    "        if end_chat(msg):\n",
    "            out_msg = 'and I oop–girl, bye!'\n",
    "            chat = False\n",
    "      \n",
    "        # If the input was an exclamation, return msg related to it being a exclamation\n",
    "        if not out_msg and exclamation:\n",
    "            out_msg = random.choice(exclamation_replies)\n",
    "            \n",
    "        # If the input was a question, return msg related to it being a question\n",
    "        if not out_msg and question:\n",
    "            out_msg = question_reply\n",
    "        \n",
    "        #  If the input was neither an exclamation or question, randomly return msg using either phrase_in_laughter or spongebob_meme\n",
    "        if not out_msg:\n",
    "\n",
    "            # Initialize to collect a list of possible outputs\n",
    "            outs = []\n",
    "            \n",
    "            # Return a msg by inserting it within laughter\n",
    "            outs.append(phrase_in_laughter(msg))\n",
    "                \n",
    "            # Return a msg by mimicking it with alternating capitalization\n",
    "            outs.append(spongebob_meme(msg))\n",
    "            \n",
    "            # We could have selected multiple outputs from the topic search above (if multiple return possible outputs)\n",
    "            # We also might have appended None in some cases, meaning we don't have a reply\n",
    "            # To deal with this, we are going to randomly select an output from the set of outputs that are not None\n",
    "            options = list(filter(None, outs))\n",
    "            if options:\n",
    "                out_msg = random.choice(options)\n",
    "                \n",
    "        # Catch-all to say something if msg not caught & processed so far\n",
    "        if not out_msg:\n",
    "            out_msg = default\n",
    "                \n",
    "        print('OUTPUT:', out_msg)\n",
    "\n"
   ]
  },
  {
   "cell_type": "code",
   "execution_count": null,
   "metadata": {},
   "outputs": [],
   "source": [
    "have_a_chat()"
   ]
  },
  {
   "cell_type": "code",
   "execution_count": null,
   "metadata": {},
   "outputs": [],
   "source": []
  }
 ],
 "metadata": {
  "kernelspec": {
   "display_name": "Python 3",
   "language": "python",
   "name": "python3"
  },
  "language_info": {
   "codemirror_mode": {
    "name": "ipython",
    "version": 3
   },
   "file_extension": ".py",
   "mimetype": "text/x-python",
   "name": "python",
   "nbconvert_exporter": "python",
   "pygments_lexer": "ipython3",
   "version": "3.6.7"
  }
 },
 "nbformat": 4,
 "nbformat_minor": 2
}
